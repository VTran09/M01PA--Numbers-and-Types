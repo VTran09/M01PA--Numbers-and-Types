{
 "cells": [
  {
   "cell_type": "markdown",
   "id": "a2762168",
   "metadata": {},
   "source": [
    "#3.1: There are 3600 seconds in an hour\n",
    "(60 * 60)"
   ]
  },
  {
   "cell_type": "code",
   "execution_count": 8,
   "id": "a761c633",
   "metadata": {},
   "outputs": [
    {
     "name": "stdout",
     "output_type": "stream",
     "text": [
      "There are 3600 seconds in an hour.\n"
     ]
    }
   ],
   "source": [
    "#3.2:\n",
    "seconds_per_hour = 60 * 60\n",
    "print(\"There are\",seconds_per_hour,\"seconds in an hour.\")"
   ]
  },
  {
   "cell_type": "code",
   "execution_count": 11,
   "id": "cc554df4",
   "metadata": {},
   "outputs": [
    {
     "name": "stdout",
     "output_type": "stream",
     "text": [
      "There are 86400 seconds in a day\n"
     ]
    }
   ],
   "source": [
    "#3.3:\n",
    "print(\"There are\", seconds_per_hour * 24,\"seconds in a day\")"
   ]
  },
  {
   "cell_type": "code",
   "execution_count": 12,
   "id": "0f4776ca",
   "metadata": {},
   "outputs": [
    {
     "name": "stdout",
     "output_type": "stream",
     "text": [
      "There are 86400 seconds in a day.\n"
     ]
    }
   ],
   "source": [
    "#3.4:\n",
    "seconds_per_day = seconds_per_hour * 24\n",
    "print(\"There are\", seconds_per_day, \"seconds in a day.\")"
   ]
  },
  {
   "cell_type": "code",
   "execution_count": 13,
   "id": "629e54ff",
   "metadata": {},
   "outputs": [
    {
     "data": {
      "text/plain": [
       "24.0"
      ]
     },
     "execution_count": 13,
     "metadata": {},
     "output_type": "execute_result"
    }
   ],
   "source": [
    "#3.5:\n",
    "seconds_per_day / seconds_per_hour"
   ]
  },
  {
   "cell_type": "code",
   "execution_count": 15,
   "id": "0f4eb3c3",
   "metadata": {},
   "outputs": [
    {
     "data": {
      "text/plain": [
       "24"
      ]
     },
     "execution_count": 15,
     "metadata": {},
     "output_type": "execute_result"
    }
   ],
   "source": [
    "#3.6:\n",
    "seconds_per_day // seconds_per_hour\n",
    "#This number does agree with the floating-point value from the previous question, aside from the final .0"
   ]
  },
  {
   "cell_type": "code",
   "execution_count": null,
   "id": "89e016f5",
   "metadata": {},
   "outputs": [],
   "source": []
  }
 ],
 "metadata": {
  "kernelspec": {
   "display_name": "Python 3 (ipykernel)",
   "language": "python",
   "name": "python3"
  },
  "language_info": {
   "codemirror_mode": {
    "name": "ipython",
    "version": 3
   },
   "file_extension": ".py",
   "mimetype": "text/x-python",
   "name": "python",
   "nbconvert_exporter": "python",
   "pygments_lexer": "ipython3",
   "version": "3.9.13"
  }
 },
 "nbformat": 4,
 "nbformat_minor": 5
}
